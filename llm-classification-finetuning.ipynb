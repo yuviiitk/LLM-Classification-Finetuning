{
 "cells": [
  {
   "cell_type": "code",
   "execution_count": 1,
   "id": "cf5728ec",
   "metadata": {
    "execution": {
     "iopub.execute_input": "2025-06-30T06:16:55.104397Z",
     "iopub.status.busy": "2025-06-30T06:16:55.103977Z",
     "iopub.status.idle": "2025-06-30T06:16:57.064025Z",
     "shell.execute_reply": "2025-06-30T06:16:57.062969Z"
    },
    "papermill": {
     "duration": 1.966955,
     "end_time": "2025-06-30T06:16:57.065830",
     "exception": false,
     "start_time": "2025-06-30T06:16:55.098875",
     "status": "completed"
    },
    "tags": []
   },
   "outputs": [
    {
     "name": "stdout",
     "output_type": "stream",
     "text": [
      "/kaggle/input/llm-classification-finetuning/sample_submission.csv\n",
      "/kaggle/input/llm-classification-finetuning/train.csv\n",
      "/kaggle/input/llm-classification-finetuning/test.csv\n"
     ]
    }
   ],
   "source": [
    "# This Python 3 environment comes with many helpful analytics libraries installed\n",
    "# It is defined by the kaggle/python Docker image: https://github.com/kaggle/docker-python\n",
    "# For example, here's several helpful packages to load\n",
    "\n",
    "import numpy as np # linear algebra\n",
    "import pandas as pd # data processing, CSV file I/O (e.g. pd.read_csv)\n",
    "\n",
    "# Input data files are available in the read-only \"../input/\" directory\n",
    "# For example, running this (by clicking run or pressing Shift+Enter) will list all files under the input directory\n",
    "\n",
    "import os\n",
    "for dirname, _, filenames in os.walk('/kaggle/input'):\n",
    "    for filename in filenames:\n",
    "        print(os.path.join(dirname, filename))\n",
    "\n",
    "# You can write up to 20GB to the current directory (/kaggle/working/) that gets preserved as output when you create a version using \"Save & Run All\" \n",
    "# You can also write temporary files to /kaggle/temp/, but they won't be saved outside of the current session"
   ]
  },
  {
   "cell_type": "code",
   "execution_count": 2,
   "id": "555439fb",
   "metadata": {
    "execution": {
     "iopub.execute_input": "2025-06-30T06:16:57.073734Z",
     "iopub.status.busy": "2025-06-30T06:16:57.073287Z",
     "iopub.status.idle": "2025-06-30T06:17:00.771518Z",
     "shell.execute_reply": "2025-06-30T06:17:00.770202Z"
    },
    "papermill": {
     "duration": 3.704032,
     "end_time": "2025-06-30T06:17:00.773376",
     "exception": false,
     "start_time": "2025-06-30T06:16:57.069344",
     "status": "completed"
    },
    "tags": []
   },
   "outputs": [],
   "source": [
    "import pandas as pd\n",
    "\n",
    "Train = pd.read_csv('/kaggle/input/llm-classification-finetuning/train.csv')\n",
    "Test = pd.read_csv('/kaggle/input/llm-classification-finetuning/test.csv')"
   ]
  },
  {
   "cell_type": "code",
   "execution_count": 3,
   "id": "8beb9482",
   "metadata": {
    "execution": {
     "iopub.execute_input": "2025-06-30T06:17:00.781879Z",
     "iopub.status.busy": "2025-06-30T06:17:00.781240Z",
     "iopub.status.idle": "2025-06-30T06:17:02.236665Z",
     "shell.execute_reply": "2025-06-30T06:17:02.235772Z"
    },
    "papermill": {
     "duration": 1.461478,
     "end_time": "2025-06-30T06:17:02.238273",
     "exception": false,
     "start_time": "2025-06-30T06:17:00.776795",
     "status": "completed"
    },
    "tags": []
   },
   "outputs": [],
   "source": [
    "def lenght_features(df):\n",
    "    df['char_len_a'] = df['response_a'].str.len()\n",
    "    df['char_len_b'] = df['response_b'].str.len()\n",
    "    df['char_len_diff'] = df['char_len_a'] - df['char_len_b']\n",
    "\n",
    "    df['word_len_a'] = df['response_a'].apply(lambda x: len(str(x).split()))\n",
    "    df['word_len_b'] = df['response_b'].apply(lambda x: len(str(x).split()))\n",
    "    df['word_len_diff'] = df['word_len_a'] - df['word_len_b']\n",
    "\n",
    "    return df\n",
    "\n",
    "Train = lenght_features(Train)\n",
    "Test = lenght_features(Test)"
   ]
  },
  {
   "cell_type": "code",
   "execution_count": 4,
   "id": "c83da50d",
   "metadata": {
    "execution": {
     "iopub.execute_input": "2025-06-30T06:17:02.245731Z",
     "iopub.status.busy": "2025-06-30T06:17:02.245403Z",
     "iopub.status.idle": "2025-06-30T06:20:31.517303Z",
     "shell.execute_reply": "2025-06-30T06:20:31.515909Z"
    },
    "papermill": {
     "duration": 209.278435,
     "end_time": "2025-06-30T06:20:31.519888",
     "exception": false,
     "start_time": "2025-06-30T06:17:02.241453",
     "status": "completed"
    },
    "tags": []
   },
   "outputs": [],
   "source": [
    "from sklearn.feature_extraction.text import TfidfVectorizer\n",
    "from sklearn.metrics.pairwise import cosine_similarity\n",
    "\n",
    "tfidf_sim = TfidfVectorizer(max_features=5000)\n",
    "tfidf_sim.fit(pd.concat([\n",
    "    Train['prompt'], Train['response_a'], Train['response_b'],\n",
    "    Test['prompt'], Test['response_a'], Test['response_b']\n",
    "]))\n",
    "\n",
    "def get_sim(row):\n",
    "    prompt_vec = tfidf_sim.transform([row['prompt']])\n",
    "    a_vec = tfidf_sim.transform([row['response_a']])\n",
    "    b_vec = tfidf_sim.transform([row['response_b']])\n",
    "    sim_a = cosine_similarity(prompt_vec, a_vec)[0][0]\n",
    "    sim_b = cosine_similarity(prompt_vec, b_vec)[0][0]\n",
    "    return pd.Series({\n",
    "        'sim_a': sim_a,\n",
    "        'sim_b': sim_b,\n",
    "        'sim_diff': sim_a - sim_b\n",
    "    })\n",
    "\n",
    "Train[['sim_a', 'sim_b', 'sim_diff']] = Train.apply(get_sim, axis=1)\n",
    "Test[['sim_a', 'sim_b', 'sim_diff']] = Test.apply(get_sim, axis=1)"
   ]
  },
  {
   "cell_type": "code",
   "execution_count": 5,
   "id": "b84c53c2",
   "metadata": {
    "execution": {
     "iopub.execute_input": "2025-06-30T06:20:31.528458Z",
     "iopub.status.busy": "2025-06-30T06:20:31.528014Z",
     "iopub.status.idle": "2025-06-30T06:22:58.183292Z",
     "shell.execute_reply": "2025-06-30T06:22:58.182502Z"
    },
    "papermill": {
     "duration": 146.660856,
     "end_time": "2025-06-30T06:22:58.184919",
     "exception": false,
     "start_time": "2025-06-30T06:20:31.524063",
     "status": "completed"
    },
    "tags": []
   },
   "outputs": [],
   "source": [
    "from textblob import TextBlob\n",
    "\n",
    "def get_sentiment(text):\n",
    "   return TextBlob(str(text)).sentiment.polarity\n",
    "\n",
    "Train['sent_a'] = Train['response_a'].apply(get_sentiment)\n",
    "Train['sent_b'] = Train['response_b'].apply(get_sentiment)\n",
    "Train['sent_diff'] = Train['sent_a'] - Train['sent_b']\n",
    "\n",
    "Test['sent_a'] = Test['response_a'].apply(get_sentiment)\n",
    "Test['sent_b'] = Test['response_b'].apply(get_sentiment)\n",
    "Test['sent_diff'] = Test['sent_a'] - Test['sent_b']"
   ]
  },
  {
   "cell_type": "code",
   "execution_count": 6,
   "id": "29f14634",
   "metadata": {
    "execution": {
     "iopub.execute_input": "2025-06-30T06:22:58.192450Z",
     "iopub.status.busy": "2025-06-30T06:22:58.191745Z",
     "iopub.status.idle": "2025-06-30T06:22:58.195864Z",
     "shell.execute_reply": "2025-06-30T06:22:58.195160Z"
    },
    "papermill": {
     "duration": 0.009044,
     "end_time": "2025-06-30T06:22:58.197179",
     "exception": false,
     "start_time": "2025-06-30T06:22:58.188135",
     "status": "completed"
    },
    "tags": []
   },
   "outputs": [],
   "source": [
    "Features = ['char_len_a',\n",
    "       'char_len_b', 'char_len_diff', 'word_len_a', 'word_len_b',\n",
    "       'word_len_diff', 'sim_a', 'sim_b', 'sim_diff','sent_a', 'sent_b', 'sent_diff']"
   ]
  },
  {
   "cell_type": "code",
   "execution_count": 7,
   "id": "d655410c",
   "metadata": {
    "execution": {
     "iopub.execute_input": "2025-06-30T06:22:58.204360Z",
     "iopub.status.busy": "2025-06-30T06:22:58.203784Z",
     "iopub.status.idle": "2025-06-30T06:22:58.218063Z",
     "shell.execute_reply": "2025-06-30T06:22:58.217226Z"
    },
    "papermill": {
     "duration": 0.019585,
     "end_time": "2025-06-30T06:22:58.219729",
     "exception": false,
     "start_time": "2025-06-30T06:22:58.200144",
     "status": "completed"
    },
    "tags": []
   },
   "outputs": [],
   "source": [
    "import numpy as np\n",
    "\n",
    "y = np.argmax(Train[['winner_model_a', 'winner_model_b', 'winner_tie']].values, axis=1)\n",
    "X = Train[Features]"
   ]
  },
  {
   "cell_type": "code",
   "execution_count": 8,
   "id": "9d259148",
   "metadata": {
    "execution": {
     "iopub.execute_input": "2025-06-30T06:22:58.226698Z",
     "iopub.status.busy": "2025-06-30T06:22:58.226376Z",
     "iopub.status.idle": "2025-06-30T06:22:58.243779Z",
     "shell.execute_reply": "2025-06-30T06:22:58.242852Z"
    },
    "papermill": {
     "duration": 0.022818,
     "end_time": "2025-06-30T06:22:58.245520",
     "exception": false,
     "start_time": "2025-06-30T06:22:58.222702",
     "status": "completed"
    },
    "tags": []
   },
   "outputs": [],
   "source": [
    "from sklearn.model_selection import train_test_split\n",
    "\n",
    "X_train, X_val, y_train, y_val = train_test_split(X, y, test_size=0.1, random_state=42)"
   ]
  },
  {
   "cell_type": "code",
   "execution_count": 9,
   "id": "7854d1aa",
   "metadata": {
    "execution": {
     "iopub.execute_input": "2025-06-30T06:22:58.252740Z",
     "iopub.status.busy": "2025-06-30T06:22:58.252116Z",
     "iopub.status.idle": "2025-06-30T06:25:17.952428Z",
     "shell.execute_reply": "2025-06-30T06:25:17.951433Z"
    },
    "papermill": {
     "duration": 139.70826,
     "end_time": "2025-06-30T06:25:17.956675",
     "exception": false,
     "start_time": "2025-06-30T06:22:58.248415",
     "status": "completed"
    },
    "tags": []
   },
   "outputs": [
    {
     "data": {
      "text/html": [
       "<style>#sk-container-id-1 {color: black;background-color: white;}#sk-container-id-1 pre{padding: 0;}#sk-container-id-1 div.sk-toggleable {background-color: white;}#sk-container-id-1 label.sk-toggleable__label {cursor: pointer;display: block;width: 100%;margin-bottom: 0;padding: 0.3em;box-sizing: border-box;text-align: center;}#sk-container-id-1 label.sk-toggleable__label-arrow:before {content: \"▸\";float: left;margin-right: 0.25em;color: #696969;}#sk-container-id-1 label.sk-toggleable__label-arrow:hover:before {color: black;}#sk-container-id-1 div.sk-estimator:hover label.sk-toggleable__label-arrow:before {color: black;}#sk-container-id-1 div.sk-toggleable__content {max-height: 0;max-width: 0;overflow: hidden;text-align: left;background-color: #f0f8ff;}#sk-container-id-1 div.sk-toggleable__content pre {margin: 0.2em;color: black;border-radius: 0.25em;background-color: #f0f8ff;}#sk-container-id-1 input.sk-toggleable__control:checked~div.sk-toggleable__content {max-height: 200px;max-width: 100%;overflow: auto;}#sk-container-id-1 input.sk-toggleable__control:checked~label.sk-toggleable__label-arrow:before {content: \"▾\";}#sk-container-id-1 div.sk-estimator input.sk-toggleable__control:checked~label.sk-toggleable__label {background-color: #d4ebff;}#sk-container-id-1 div.sk-label input.sk-toggleable__control:checked~label.sk-toggleable__label {background-color: #d4ebff;}#sk-container-id-1 input.sk-hidden--visually {border: 0;clip: rect(1px 1px 1px 1px);clip: rect(1px, 1px, 1px, 1px);height: 1px;margin: -1px;overflow: hidden;padding: 0;position: absolute;width: 1px;}#sk-container-id-1 div.sk-estimator {font-family: monospace;background-color: #f0f8ff;border: 1px dotted black;border-radius: 0.25em;box-sizing: border-box;margin-bottom: 0.5em;}#sk-container-id-1 div.sk-estimator:hover {background-color: #d4ebff;}#sk-container-id-1 div.sk-parallel-item::after {content: \"\";width: 100%;border-bottom: 1px solid gray;flex-grow: 1;}#sk-container-id-1 div.sk-label:hover label.sk-toggleable__label {background-color: #d4ebff;}#sk-container-id-1 div.sk-serial::before {content: \"\";position: absolute;border-left: 1px solid gray;box-sizing: border-box;top: 0;bottom: 0;left: 50%;z-index: 0;}#sk-container-id-1 div.sk-serial {display: flex;flex-direction: column;align-items: center;background-color: white;padding-right: 0.2em;padding-left: 0.2em;position: relative;}#sk-container-id-1 div.sk-item {position: relative;z-index: 1;}#sk-container-id-1 div.sk-parallel {display: flex;align-items: stretch;justify-content: center;background-color: white;position: relative;}#sk-container-id-1 div.sk-item::before, #sk-container-id-1 div.sk-parallel-item::before {content: \"\";position: absolute;border-left: 1px solid gray;box-sizing: border-box;top: 0;bottom: 0;left: 50%;z-index: -1;}#sk-container-id-1 div.sk-parallel-item {display: flex;flex-direction: column;z-index: 1;position: relative;background-color: white;}#sk-container-id-1 div.sk-parallel-item:first-child::after {align-self: flex-end;width: 50%;}#sk-container-id-1 div.sk-parallel-item:last-child::after {align-self: flex-start;width: 50%;}#sk-container-id-1 div.sk-parallel-item:only-child::after {width: 0;}#sk-container-id-1 div.sk-dashed-wrapped {border: 1px dashed gray;margin: 0 0.4em 0.5em 0.4em;box-sizing: border-box;padding-bottom: 0.4em;background-color: white;}#sk-container-id-1 div.sk-label label {font-family: monospace;font-weight: bold;display: inline-block;line-height: 1.2em;}#sk-container-id-1 div.sk-label-container {text-align: center;}#sk-container-id-1 div.sk-container {/* jupyter's `normalize.less` sets `[hidden] { display: none; }` but bootstrap.min.css set `[hidden] { display: none !important; }` so we also need the `!important` here to be able to override the default hidden behavior on the sphinx rendered scikit-learn.org. See: https://github.com/scikit-learn/scikit-learn/issues/21755 */display: inline-block !important;position: relative;}#sk-container-id-1 div.sk-text-repr-fallback {display: none;}</style><div id=\"sk-container-id-1\" class=\"sk-top-container\"><div class=\"sk-text-repr-fallback\"><pre>GradientBoostingClassifier(n_estimators=200, random_state=42)</pre><b>In a Jupyter environment, please rerun this cell to show the HTML representation or trust the notebook. <br />On GitHub, the HTML representation is unable to render, please try loading this page with nbviewer.org.</b></div><div class=\"sk-container\" hidden><div class=\"sk-item\"><div class=\"sk-estimator sk-toggleable\"><input class=\"sk-toggleable__control sk-hidden--visually\" id=\"sk-estimator-id-1\" type=\"checkbox\" checked><label for=\"sk-estimator-id-1\" class=\"sk-toggleable__label sk-toggleable__label-arrow\">GradientBoostingClassifier</label><div class=\"sk-toggleable__content\"><pre>GradientBoostingClassifier(n_estimators=200, random_state=42)</pre></div></div></div></div></div>"
      ],
      "text/plain": [
       "GradientBoostingClassifier(n_estimators=200, random_state=42)"
      ]
     },
     "execution_count": 9,
     "metadata": {},
     "output_type": "execute_result"
    }
   ],
   "source": [
    "from sklearn.ensemble import GradientBoostingClassifier\n",
    "\n",
    "model = GradientBoostingClassifier(n_estimators=200, learning_rate=0.1, random_state=42)\n",
    "model.fit(X_train, y_train)"
   ]
  },
  {
   "cell_type": "code",
   "execution_count": 10,
   "id": "7531c4b4",
   "metadata": {
    "execution": {
     "iopub.execute_input": "2025-06-30T06:25:17.964960Z",
     "iopub.status.busy": "2025-06-30T06:25:17.964119Z",
     "iopub.status.idle": "2025-06-30T06:25:18.020706Z",
     "shell.execute_reply": "2025-06-30T06:25:18.019447Z"
    },
    "papermill": {
     "duration": 0.062882,
     "end_time": "2025-06-30T06:25:18.022544",
     "exception": false,
     "start_time": "2025-06-30T06:25:17.959662",
     "status": "completed"
    },
    "tags": []
   },
   "outputs": [
    {
     "name": "stdout",
     "output_type": "stream",
     "text": [
      "Validation Log Loss:  1.0431245370105229\n"
     ]
    }
   ],
   "source": [
    "from sklearn.metrics import log_loss\n",
    "\n",
    "y_pred = model.predict_proba(X_val)\n",
    "log_loss_val = log_loss(y_val, y_pred)\n",
    "print('Validation Log Loss: ', log_loss_val)"
   ]
  },
  {
   "cell_type": "code",
   "execution_count": 11,
   "id": "28989d68",
   "metadata": {
    "execution": {
     "iopub.execute_input": "2025-06-30T06:25:18.032859Z",
     "iopub.status.busy": "2025-06-30T06:25:18.032228Z",
     "iopub.status.idle": "2025-06-30T06:25:18.040420Z",
     "shell.execute_reply": "2025-06-30T06:25:18.039584Z"
    },
    "papermill": {
     "duration": 0.015908,
     "end_time": "2025-06-30T06:25:18.041747",
     "exception": false,
     "start_time": "2025-06-30T06:25:18.025839",
     "status": "completed"
    },
    "tags": []
   },
   "outputs": [],
   "source": [
    "X_test = Test[Features]\n",
    "test_pred = model.predict_proba(X_test)"
   ]
  },
  {
   "cell_type": "code",
   "execution_count": 12,
   "id": "51948124",
   "metadata": {
    "execution": {
     "iopub.execute_input": "2025-06-30T06:25:18.053381Z",
     "iopub.status.busy": "2025-06-30T06:25:18.052706Z",
     "iopub.status.idle": "2025-06-30T06:25:18.066680Z",
     "shell.execute_reply": "2025-06-30T06:25:18.065416Z"
    },
    "papermill": {
     "duration": 0.022874,
     "end_time": "2025-06-30T06:25:18.068920",
     "exception": false,
     "start_time": "2025-06-30T06:25:18.046046",
     "status": "completed"
    },
    "tags": []
   },
   "outputs": [],
   "source": [
    "submission = pd.DataFrame({\n",
    "    'id': Test['id'],\n",
    "    'winner_model_a': test_pred[:, 0],\n",
    "    'winner_model_b': test_pred[:, 1],\n",
    "    'winner_tie': test_pred[:, 2]\n",
    "})\n",
    "submission.to_csv('submission.csv', index=False)"
   ]
  },
  {
   "cell_type": "code",
   "execution_count": null,
   "id": "c58d406b",
   "metadata": {
    "papermill": {
     "duration": 0.004585,
     "end_time": "2025-06-30T06:25:18.080253",
     "exception": false,
     "start_time": "2025-06-30T06:25:18.075668",
     "status": "completed"
    },
    "tags": []
   },
   "outputs": [],
   "source": []
  }
 ],
 "metadata": {
  "kaggle": {
   "accelerator": "none",
   "dataSources": [
    {
     "databundleVersionId": 9809560,
     "sourceId": 86518,
     "sourceType": "competition"
    }
   ],
   "dockerImageVersionId": 31040,
   "isGpuEnabled": false,
   "isInternetEnabled": false,
   "language": "python",
   "sourceType": "notebook"
  },
  "kernelspec": {
   "display_name": "Python 3",
   "language": "python",
   "name": "python3"
  },
  "language_info": {
   "codemirror_mode": {
    "name": "ipython",
    "version": 3
   },
   "file_extension": ".py",
   "mimetype": "text/x-python",
   "name": "python",
   "nbconvert_exporter": "python",
   "pygments_lexer": "ipython3",
   "version": "3.11.11"
  },
  "papermill": {
   "default_parameters": {},
   "duration": 508.920699,
   "end_time": "2025-06-30T06:25:18.907145",
   "environment_variables": {},
   "exception": null,
   "input_path": "__notebook__.ipynb",
   "output_path": "__notebook__.ipynb",
   "parameters": {},
   "start_time": "2025-06-30T06:16:49.986446",
   "version": "2.6.0"
  }
 },
 "nbformat": 4,
 "nbformat_minor": 5
}
